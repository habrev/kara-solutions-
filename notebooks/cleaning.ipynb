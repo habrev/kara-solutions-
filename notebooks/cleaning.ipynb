{
 "cells": [
  {
   "cell_type": "markdown",
   "metadata": {},
   "source": [
    "# data cleaning "
   ]
  },
  {
   "cell_type": "code",
   "execution_count": 3,
   "metadata": {},
   "outputs": [
    {
     "name": "stdout",
     "output_type": "stream",
     "text": [
      "Merging completed! Output saved as 'merged_output.csv'.\n"
     ]
    }
   ],
   "source": [
    "import pandas as pd\n",
    "\n",
    "# List of 5 .txt files\n",
    "txt_files = [\"../assets/scrap/scrapped_data/@CheMed123_data.csv\", \"../assets/scrap/scrapped_data/@DoctorsET_data.csv\", \"../assets/scrap/scrapped_data/@EAHCI_data.csv\", \"../assets/scrap/scrapped_data/@lobelia4cosmetics_data.csv\", \"../assets/scrap/scrapped_data/@yetenaweg_data.csv\"]  \n",
    "\n",
    "# Create an empty list to store DataFrames\n",
    "df_list = []\n",
    "\n",
    "# Read each .txt file and append to list\n",
    "for file in txt_files:\n",
    "    df = pd.read_csv(file, delimiter=\",\", encoding=\"utf-8\")  # Adjust delimiter if needed\n",
    "    df_list.append(df)\n",
    "\n",
    "# Merge all dataframes\n",
    "merged_df = pd.concat(df_list, ignore_index=True)\n",
    "\n",
    "# Save as CSV\n",
    "merged_df.to_csv(\"../assets/processed/merged_output.csv\", index=False, encoding=\"utf-8\")\n",
    "\n",
    "print(\"Merging completed! Output saved as 'merged_output.csv'.\")\n"
   ]
  },
  {
   "cell_type": "markdown",
   "metadata": {},
   "source": [
    "# Removing of duplicate "
   ]
  },
  {
   "cell_type": "code",
   "execution_count": null,
   "metadata": {},
   "outputs": [
    {
     "data": {
      "text/html": [
       "<div>\n",
       "<style scoped>\n",
       "    .dataframe tbody tr th:only-of-type {\n",
       "        vertical-align: middle;\n",
       "    }\n",
       "\n",
       "    .dataframe tbody tr th {\n",
       "        vertical-align: top;\n",
       "    }\n",
       "\n",
       "    .dataframe thead th {\n",
       "        text-align: right;\n",
       "    }\n",
       "</style>\n",
       "<table border=\"1\" class=\"dataframe\">\n",
       "  <thead>\n",
       "    <tr style=\"text-align: right;\">\n",
       "      <th></th>\n",
       "      <th>Channel Title</th>\n",
       "      <th>Channel Username</th>\n",
       "      <th>ID</th>\n",
       "      <th>Message</th>\n",
       "      <th>Date</th>\n",
       "      <th>Views</th>\n",
       "      <th>Message Link</th>\n",
       "    </tr>\n",
       "  </thead>\n",
       "  <tbody>\n",
       "    <tr>\n",
       "      <th>0</th>\n",
       "      <td>CheMed</td>\n",
       "      <td>@CheMed123</td>\n",
       "      <td>97</td>\n",
       "      <td>⚠️Notice!\\nDear esteemed customers,\\nDue to fo...</td>\n",
       "      <td>2023-02-10 12:23:06+00:00</td>\n",
       "      <td>1088.0</td>\n",
       "      <td>https://t.me/@CheMed123/97</td>\n",
       "    </tr>\n",
       "    <tr>\n",
       "      <th>1</th>\n",
       "      <td>CheMed</td>\n",
       "      <td>@CheMed123</td>\n",
       "      <td>96</td>\n",
       "      <td>Mela-One በውስጡ ሆርሞን ያለው ድንገተኛ ወሊድ መቆጣጠርያ ሲሆን ያለ...</td>\n",
       "      <td>2023-02-02 08:58:52+00:00</td>\n",
       "      <td>1039.0</td>\n",
       "      <td>https://t.me/@CheMed123/96</td>\n",
       "    </tr>\n",
       "    <tr>\n",
       "      <th>2</th>\n",
       "      <td>CheMed</td>\n",
       "      <td>@CheMed123</td>\n",
       "      <td>95</td>\n",
       "      <td>አዚትሮማይሲን በሃኪም መድሃኒት ማዘዣ ከሚታዘዙ አንቲባዮቲኮች አንዱ ሲሆን...</td>\n",
       "      <td>2023-02-01 08:59:37+00:00</td>\n",
       "      <td>942.0</td>\n",
       "      <td>https://t.me/@CheMed123/95</td>\n",
       "    </tr>\n",
       "    <tr>\n",
       "      <th>3</th>\n",
       "      <td>CheMed</td>\n",
       "      <td>@CheMed123</td>\n",
       "      <td>94</td>\n",
       "      <td>Che-Med Trivia #3\\n\\nምግብና መጠጦች አንዳንድ መድሃኒቶች በደ...</td>\n",
       "      <td>2023-01-31 09:19:53+00:00</td>\n",
       "      <td>728.0</td>\n",
       "      <td>https://t.me/@CheMed123/94</td>\n",
       "    </tr>\n",
       "    <tr>\n",
       "      <th>4</th>\n",
       "      <td>CheMed</td>\n",
       "      <td>@CheMed123</td>\n",
       "      <td>93</td>\n",
       "      <td>Che-Med Trivia #2\\n\\nእንደ Ciprofloxacin, Doxycy...</td>\n",
       "      <td>2023-01-30 09:45:25+00:00</td>\n",
       "      <td>633.0</td>\n",
       "      <td>https://t.me/@CheMed123/93</td>\n",
       "    </tr>\n",
       "  </tbody>\n",
       "</table>\n",
       "</div>"
      ],
      "text/plain": [
       "  Channel Title Channel Username  ID  \\\n",
       "0        CheMed       @CheMed123  97   \n",
       "1        CheMed       @CheMed123  96   \n",
       "2        CheMed       @CheMed123  95   \n",
       "3        CheMed       @CheMed123  94   \n",
       "4        CheMed       @CheMed123  93   \n",
       "\n",
       "                                             Message  \\\n",
       "0  ⚠️Notice!\\nDear esteemed customers,\\nDue to fo...   \n",
       "1  Mela-One በውስጡ ሆርሞን ያለው ድንገተኛ ወሊድ መቆጣጠርያ ሲሆን ያለ...   \n",
       "2  አዚትሮማይሲን በሃኪም መድሃኒት ማዘዣ ከሚታዘዙ አንቲባዮቲኮች አንዱ ሲሆን...   \n",
       "3  Che-Med Trivia #3\\n\\nምግብና መጠጦች አንዳንድ መድሃኒቶች በደ...   \n",
       "4  Che-Med Trivia #2\\n\\nእንደ Ciprofloxacin, Doxycy...   \n",
       "\n",
       "                        Date   Views                Message Link  \n",
       "0  2023-02-10 12:23:06+00:00  1088.0  https://t.me/@CheMed123/97  \n",
       "1  2023-02-02 08:58:52+00:00  1039.0  https://t.me/@CheMed123/96  \n",
       "2  2023-02-01 08:59:37+00:00   942.0  https://t.me/@CheMed123/95  \n",
       "3  2023-01-31 09:19:53+00:00   728.0  https://t.me/@CheMed123/94  \n",
       "4  2023-01-30 09:45:25+00:00   633.0  https://t.me/@CheMed123/93  "
      ]
     },
     "execution_count": 8,
     "metadata": {},
     "output_type": "execute_result"
    }
   ],
   "source": [
    "import pandas as pd\n",
    "import numpy as np\n",
    "\n",
    "#removing duplicate rows \n",
    "df = pd.read_csv('../assets/processed/merged_output.csv')\n",
    "df_cleaned = df.drop_duplicates()\n",
    "\n",
    "#removing missing values \n",
    "df = df_cleaned.dropna()\n",
    "\n"
   ]
  },
  {
   "cell_type": "code",
   "execution_count": 9,
   "metadata": {},
   "outputs": [
    {
     "name": "stderr",
     "output_type": "stream",
     "text": [
      "/tmp/ipykernel_8787/2254369861.py:7: SettingWithCopyWarning: \n",
      "A value is trying to be set on a copy of a slice from a DataFrame.\n",
      "Try using .loc[row_indexer,col_indexer] = value instead\n",
      "\n",
      "See the caveats in the documentation: https://pandas.pydata.org/pandas-docs/stable/user_guide/indexing.html#returning-a-view-versus-a-copy\n",
      "  df[\"Message\"] = df[\"Message\"].apply(remove_emojis)\n"
     ]
    }
   ],
   "source": [
    "import emoji\n",
    "\n",
    "\n",
    "def remove_emojis(text):\n",
    "    return emoji.replace_emoji(text, replace='')\n",
    "\n",
    "df[\"Message\"] = df[\"Message\"].apply(remove_emojis)"
   ]
  },
  {
   "cell_type": "code",
   "execution_count": 10,
   "metadata": {},
   "outputs": [
    {
     "data": {
      "text/html": [
       "<div>\n",
       "<style scoped>\n",
       "    .dataframe tbody tr th:only-of-type {\n",
       "        vertical-align: middle;\n",
       "    }\n",
       "\n",
       "    .dataframe tbody tr th {\n",
       "        vertical-align: top;\n",
       "    }\n",
       "\n",
       "    .dataframe thead th {\n",
       "        text-align: right;\n",
       "    }\n",
       "</style>\n",
       "<table border=\"1\" class=\"dataframe\">\n",
       "  <thead>\n",
       "    <tr style=\"text-align: right;\">\n",
       "      <th></th>\n",
       "      <th>Channel Title</th>\n",
       "      <th>Channel Username</th>\n",
       "      <th>ID</th>\n",
       "      <th>Message</th>\n",
       "      <th>Date</th>\n",
       "      <th>Views</th>\n",
       "      <th>Message Link</th>\n",
       "    </tr>\n",
       "  </thead>\n",
       "  <tbody>\n",
       "    <tr>\n",
       "      <th>0</th>\n",
       "      <td>CheMed</td>\n",
       "      <td>@CheMed123</td>\n",
       "      <td>97</td>\n",
       "      <td>Notice!\\nDear esteemed customers,\\nDue to four...</td>\n",
       "      <td>2023-02-10 12:23:06+00:00</td>\n",
       "      <td>1088.0</td>\n",
       "      <td>https://t.me/@CheMed123/97</td>\n",
       "    </tr>\n",
       "    <tr>\n",
       "      <th>1</th>\n",
       "      <td>CheMed</td>\n",
       "      <td>@CheMed123</td>\n",
       "      <td>96</td>\n",
       "      <td>Mela-One በውስጡ ሆርሞን ያለው ድንገተኛ ወሊድ መቆጣጠርያ ሲሆን ያለ...</td>\n",
       "      <td>2023-02-02 08:58:52+00:00</td>\n",
       "      <td>1039.0</td>\n",
       "      <td>https://t.me/@CheMed123/96</td>\n",
       "    </tr>\n",
       "    <tr>\n",
       "      <th>2</th>\n",
       "      <td>CheMed</td>\n",
       "      <td>@CheMed123</td>\n",
       "      <td>95</td>\n",
       "      <td>አዚትሮማይሲን በሃኪም መድሃኒት ማዘዣ ከሚታዘዙ አንቲባዮቲኮች አንዱ ሲሆን...</td>\n",
       "      <td>2023-02-01 08:59:37+00:00</td>\n",
       "      <td>942.0</td>\n",
       "      <td>https://t.me/@CheMed123/95</td>\n",
       "    </tr>\n",
       "    <tr>\n",
       "      <th>3</th>\n",
       "      <td>CheMed</td>\n",
       "      <td>@CheMed123</td>\n",
       "      <td>94</td>\n",
       "      <td>Che-Med Trivia #3\\n\\nምግብና መጠጦች አንዳንድ መድሃኒቶች በደ...</td>\n",
       "      <td>2023-01-31 09:19:53+00:00</td>\n",
       "      <td>728.0</td>\n",
       "      <td>https://t.me/@CheMed123/94</td>\n",
       "    </tr>\n",
       "    <tr>\n",
       "      <th>4</th>\n",
       "      <td>CheMed</td>\n",
       "      <td>@CheMed123</td>\n",
       "      <td>93</td>\n",
       "      <td>Che-Med Trivia #2\\n\\nእንደ Ciprofloxacin, Doxycy...</td>\n",
       "      <td>2023-01-30 09:45:25+00:00</td>\n",
       "      <td>633.0</td>\n",
       "      <td>https://t.me/@CheMed123/93</td>\n",
       "    </tr>\n",
       "  </tbody>\n",
       "</table>\n",
       "</div>"
      ],
      "text/plain": [
       "  Channel Title Channel Username  ID  \\\n",
       "0        CheMed       @CheMed123  97   \n",
       "1        CheMed       @CheMed123  96   \n",
       "2        CheMed       @CheMed123  95   \n",
       "3        CheMed       @CheMed123  94   \n",
       "4        CheMed       @CheMed123  93   \n",
       "\n",
       "                                             Message  \\\n",
       "0  Notice!\\nDear esteemed customers,\\nDue to four...   \n",
       "1  Mela-One በውስጡ ሆርሞን ያለው ድንገተኛ ወሊድ መቆጣጠርያ ሲሆን ያለ...   \n",
       "2  አዚትሮማይሲን በሃኪም መድሃኒት ማዘዣ ከሚታዘዙ አንቲባዮቲኮች አንዱ ሲሆን...   \n",
       "3  Che-Med Trivia #3\\n\\nምግብና መጠጦች አንዳንድ መድሃኒቶች በደ...   \n",
       "4  Che-Med Trivia #2\\n\\nእንደ Ciprofloxacin, Doxycy...   \n",
       "\n",
       "                        Date   Views                Message Link  \n",
       "0  2023-02-10 12:23:06+00:00  1088.0  https://t.me/@CheMed123/97  \n",
       "1  2023-02-02 08:58:52+00:00  1039.0  https://t.me/@CheMed123/96  \n",
       "2  2023-02-01 08:59:37+00:00   942.0  https://t.me/@CheMed123/95  \n",
       "3  2023-01-31 09:19:53+00:00   728.0  https://t.me/@CheMed123/94  \n",
       "4  2023-01-30 09:45:25+00:00   633.0  https://t.me/@CheMed123/93  "
      ]
     },
     "execution_count": 10,
     "metadata": {},
     "output_type": "execute_result"
    }
   ],
   "source": [
    "df.head()\n"
   ]
  },
  {
   "cell_type": "code",
   "execution_count": 11,
   "metadata": {},
   "outputs": [],
   "source": [
    "df.to_csv('../assets/processed/cleaned_df.csv')"
   ]
  },
  {
   "cell_type": "code",
   "execution_count": null,
   "metadata": {},
   "outputs": [],
   "source": []
  }
 ],
 "metadata": {
  "kernelspec": {
   "display_name": ".venv",
   "language": "python",
   "name": "python3"
  },
  "language_info": {
   "codemirror_mode": {
    "name": "ipython",
    "version": 3
   },
   "file_extension": ".py",
   "mimetype": "text/x-python",
   "name": "python",
   "nbconvert_exporter": "python",
   "pygments_lexer": "ipython3",
   "version": "3.10.12"
  }
 },
 "nbformat": 4,
 "nbformat_minor": 2
}
